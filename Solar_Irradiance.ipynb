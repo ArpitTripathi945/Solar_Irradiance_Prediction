{
 "cells": [
  {
   "attachments": {},
   "cell_type": "markdown",
   "metadata": {},
   "source": [
    "# <center> SOLAR IRRADIANCE PREDICTION </center>"
   ]
  },
  {
   "attachments": {},
   "cell_type": "markdown",
   "metadata": {},
   "source": [
    "### Data Description\n",
    "These datasets are meteorological data from the HI-SEAS weather station from four months (September through December 2016) between Mission IV and Mission V.\n",
    "\n",
    "For each dataset, the fields are:\n",
    "\n",
    "A row number (1-n) useful in sorting this export's results The UNIX time_t date (seconds since Jan 1, 1970). Useful in sorting this export's results with other export's results The date in yyyy-mm-dd format The local time of day in hh:mm:ss 24-hour format The numeric data, if any (may be an empty string) The text data, if any (may be an empty string)\n",
    "\n",
    "The units of each dataset are:\n",
    "\n",
    "* Solar radiation: watts per meter^2\n",
    "* Temperature: degrees Fahrenheit\n",
    "* Humidity: percent\n",
    "* Barometric pressure: Hg\n",
    "* Wind direction: degrees\n",
    "* Wind speed: miles per hour\n",
    "* Sunrise/sunset: Hawaii time"
   ]
  },
  {
   "attachments": {},
   "cell_type": "markdown",
   "metadata": {},
   "source": [
    "### Table of Contents\n",
    "1. Importing Libraries\n",
    "2. Loading Data\n",
    "3. Data Wrangling\n",
    "4. Feature Selection using Correlation Matrix\n",
    "5. Feature Selection using SelectKBest Method\n",
    "6. Feature Selection using Extra Tree Classifier\n",
    "7. Feature Engineering with BoxCox, Log, Min-Max and Standard transformation\n",
    "8. Preparing data - Standardisation and Splitting\n",
    "9. Prediction with XGBoost\n",
    "10. Using MultiLayer Perceptron for prediction"
   ]
  },
  {
   "cell_type": "code",
   "execution_count": null,
   "metadata": {},
   "outputs": [],
   "source": []
  }
 ],
 "metadata": {
  "kernelspec": {
   "display_name": "base",
   "language": "python",
   "name": "python3"
  },
  "language_info": {
   "codemirror_mode": {
    "name": "ipython",
    "version": 3
   },
   "file_extension": ".py",
   "mimetype": "text/x-python",
   "name": "python",
   "nbconvert_exporter": "python",
   "pygments_lexer": "ipython3",
   "version": "3.10.9"
  },
  "orig_nbformat": 4
 },
 "nbformat": 4,
 "nbformat_minor": 2
}
